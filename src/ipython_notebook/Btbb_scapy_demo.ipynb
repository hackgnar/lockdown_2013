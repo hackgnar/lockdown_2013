{
 "metadata": {
  "name": "Btbb_scapy_demo"
 },
 "nbformat": 3,
 "nbformat_minor": 0,
 "worksheets": [
  {
   "cells": [
    {
     "cell_type": "markdown",
     "metadata": {},
     "source": [
      "Scapy BTBB Demo\n",
      "===============\n",
      "* This demo serves as a brief scapy tutorial but more importantly, it  \n",
      "illustrates the btbb layer in Scapy\n",
      "* it also demonstrates utilities and helpers provided by the library\n",
      "* if you have issues installing the btbb scapy module, please refer  \n",
      "to the documentation at hackgnar.com"
     ]
    },
    {
     "cell_type": "markdown",
     "metadata": {},
     "source": [
      "library imports\n",
      "------------------\n",
      "* import everything from scapy for the demo\n",
      "* import everything from the btbb Scapy module"
     ]
    },
    {
     "cell_type": "code",
     "collapsed": false,
     "input": [
      "from scapy.all import *\n",
      "from btbb import *"
     ],
     "language": "python",
     "metadata": {},
     "outputs": []
    },
    {
     "cell_type": "markdown",
     "metadata": {},
     "source": [
      "Open btbb pcap file:\n",
      "------------------\n",
      "* btbb pcap files for this demo were created with Kismet and Ubertooth\n",
      "* * these can also be created by other means such as USRP and Kismet, etc"
     ]
    },
    {
     "cell_type": "code",
     "collapsed": true,
     "input": [
      "btbb_pcaps = PcapReader('../../data/small.pcapbtbb')"
     ],
     "language": "python",
     "metadata": {},
     "outputs": []
    },
    {
     "cell_type": "markdown",
     "metadata": {},
     "source": [
      "Read one packet from the pcap file:\n",
      "------------------------\n",
      "* btbb packet is read pcap file and instantiated as Scapy packet"
     ]
    },
    {
     "cell_type": "code",
     "collapsed": true,
     "input": [
      "pkt = btbb_pcaps.read_packet()"
     ],
     "language": "python",
     "metadata": {},
     "outputs": []
    },
    {
     "cell_type": "markdown",
     "metadata": {},
     "source": [
      "Packet sample:\n",
      "--------------\n",
      "* nothing special about this packet.  Looks like a typical Ethernet packet\n",
      "* btbb packets are layered on top of the ethernet layer much like the wireshark btbb layout\n",
      "* when nothing is present in the btbb layer, these look exactly like ethernet packets"
     ]
    },
    {
     "cell_type": "code",
     "collapsed": false,
     "input": [
      "pkt.show()"
     ],
     "language": "python",
     "metadata": {},
     "outputs": []
    },
    {
     "cell_type": "markdown",
     "metadata": {},
     "source": [
      "Interactively iterate through packets:\n",
      "------------------\n",
      "* we can run the following over and over to look though packets"
     ]
    },
    {
     "cell_type": "code",
     "collapsed": true,
     "input": [
      "pkt = btbb_pcaps.read_packet()\n",
      "pkt.show()"
     ],
     "language": "python",
     "metadata": {},
     "outputs": []
    },
    {
     "cell_type": "code",
     "collapsed": false,
     "input": [
      "pkt.summary()"
     ],
     "language": "python",
     "metadata": {},
     "outputs": []
    },
    {
     "cell_type": "markdown",
     "metadata": {},
     "source": [
      "Conditionally iterate though btbb pcap file:\n",
      "------------------------\n",
      "* iterate though the pcap file\n",
      "* display summary data for all packets\n",
      "* display detailed data if a btbb payload exists"
     ]
    },
    {
     "cell_type": "code",
     "collapsed": false,
     "input": [
      "for pkt in btbb_pcaps:\n",
      "    print pkt.summary()\n",
      "    if pkt.haslayer('BtbbPayload'):\n",
      "        pkt.show()\n",
      "        break"
     ],
     "language": "python",
     "metadata": {},
     "outputs": []
    },
    {
     "cell_type": "markdown",
     "metadata": {},
     "source": [
      "Packet list\n",
      "------------\n",
      "* instantiate the rest of the packets into a list of packets"
     ]
    },
    {
     "cell_type": "code",
     "collapsed": true,
     "input": [
      "btbb_pkt_list = btbb_pcaps.read_all()"
     ],
     "language": "python",
     "metadata": {},
     "outputs": []
    },
    {
     "cell_type": "code",
     "collapsed": false,
     "input": [
      "btbb_pkt_list"
     ],
     "language": "python",
     "metadata": {},
     "outputs": []
    },
    {
     "cell_type": "code",
     "collapsed": false,
     "input": [
      "print len(btbb_pkt_list)\n",
      "for item in btbb_pkt_list[:5]:\n",
      "    print item.summary()"
     ],
     "language": "python",
     "metadata": {},
     "outputs": []
    },
    {
     "cell_type": "markdown",
     "metadata": {},
     "source": [
      "Write btbb pcap files:\n",
      "---------------------\n",
      "* we can also write btbb packets back to new pcap files if we like"
     ]
    },
    {
     "cell_type": "code",
     "collapsed": true,
     "input": [
      "pcapbtbb_writer = PcapWriter('../../data/new_pcap_file.pcapbtbb')\n",
      "pcapbtbb_writer.write(btbb_pkt_list)"
     ],
     "language": "python",
     "metadata": {},
     "outputs": []
    },
    {
     "cell_type": "code",
     "collapsed": false,
     "input": [
      "!ls -li new_pcap_file.pcapbtbb"
     ],
     "language": "python",
     "metadata": {},
     "outputs": []
    },
    {
     "cell_type": "code",
     "collapsed": false,
     "input": [
      "new_btbb_pkts = PcapReader(\"../../data/new_pcap_file.pcapbtbb\")\n",
      "pkts = new_btbb_pkts.read_all()\n",
      "print len(pkts)\n",
      "for i in pkts[:5]:\n",
      "    print i.summary()"
     ],
     "language": "python",
     "metadata": {},
     "outputs": []
    },
    {
     "cell_type": "code",
     "collapsed": true,
     "input": [
      "new_btbb_pkts.close()\n",
      "btbb_pcaps.close()"
     ],
     "language": "python",
     "metadata": {},
     "outputs": []
    },
    {
     "cell_type": "markdown",
     "metadata": {},
     "source": [
      "Btbb Pcap File Stream:\n",
      "---------------------\n",
      "* Generic way to stream data from bluetooth baseband hardware\n",
      "* Relies on the fact that they have a way to write btbb pcap files\n",
      "* Allows for interactive real time packet monitoring"
     ]
    },
    {
     "cell_type": "code",
     "collapsed": false,
     "input": [
      "#log_dir = \"../../data/new_pcap_file.pcapbtbb\"\n",
      "#latest_file = !ls -t1 $log_dir|head -1\n",
      "#latest_file = log_dir + '/' + latest_file[0]\n",
      "latest_file = \"../../data/new_pcap_file.pcapbtbb\""
     ],
     "language": "python",
     "metadata": {},
     "outputs": []
    },
    {
     "cell_type": "code",
     "collapsed": true,
     "input": [
      "btbb_stream = BtbbPcapStreamer(latest_file)"
     ],
     "language": "python",
     "metadata": {},
     "outputs": []
    },
    {
     "cell_type": "code",
     "collapsed": false,
     "input": [
      "for pkt in btbb_stream.stream(output='packet', stop=True):\n",
      "    print pkt.summary()"
     ],
     "language": "python",
     "metadata": {},
     "outputs": []
    },
    {
     "cell_type": "code",
     "collapsed": false,
     "input": [
      "btbb_stream.close()"
     ],
     "language": "python",
     "metadata": {},
     "outputs": []
    },
    {
     "cell_type": "markdown",
     "metadata": {},
     "source": [
      "Btbb layer helper methods\n",
      "==============\n",
      "* a sample of some of the helper methods provided by scapy btbb\n",
      "* lets open a new pcap file, read in the packets and define some vars first"
     ]
    },
    {
     "cell_type": "code",
     "collapsed": false,
     "input": [
      "manuf_file='../../data/wireshark_manuf'\n",
      "!wc -l $manuf_file"
     ],
     "language": "python",
     "metadata": {},
     "outputs": []
    },
    {
     "cell_type": "code",
     "collapsed": true,
     "input": [
      "btbb_pcaps = PcapReader('../../data/small.pcapbtbb')\n",
      "pkts = btbb_pcaps.read_all()"
     ],
     "language": "python",
     "metadata": {},
     "outputs": []
    },
    {
     "cell_type": "code",
     "collapsed": false,
     "input": [
      "for i in range(10):\n",
      "    print i , pkts[i].summary()"
     ],
     "language": "python",
     "metadata": {},
     "outputs": []
    },
    {
     "cell_type": "markdown",
     "metadata": {},
     "source": [
      "Vendor lookup:\n",
      "-------------\n",
      "* can lookup vendor based on a bluetooth address\n",
      "* can lookup vendor based on packet\n",
      "* vendor determination is more accurate when both nap and uap are known\n",
      "* when only a uap is know, a list of possible vendors and associated nap is returned\n",
      "* if your wireshark manuf file is not in a default location you must specify as seen below"
     ]
    },
    {
     "cell_type": "code",
     "collapsed": false,
     "input": [
      "get_vendor('00:11:36:ed:1d:9c', manuf_file=manuf_file)"
     ],
     "language": "python",
     "metadata": {},
     "outputs": []
    },
    {
     "cell_type": "code",
     "collapsed": false,
     "input": [
      "possible_vendors = get_vendor(pkts[6],manuf_file=manuf_file)"
     ],
     "language": "python",
     "metadata": {},
     "outputs": []
    },
    {
     "cell_type": "code",
     "collapsed": false,
     "input": [
      "len(possible_vendors)"
     ],
     "language": "python",
     "metadata": {},
     "outputs": []
    },
    {
     "cell_type": "code",
     "collapsed": false,
     "input": [
      "possible_vendors"
     ],
     "language": "python",
     "metadata": {},
     "outputs": []
    },
    {
     "cell_type": "markdown",
     "metadata": {},
     "source": [
      "Distinct bluetooth address lookup:\n",
      "------------------------\n",
      "* distinct bluetooth addresses can be looked up\n",
      "* useful for quickly determining what devices are in a list of packets\n",
      "* useful for passing to other tools/modules for analysis, exploitation, etc"
     ]
    },
    {
     "cell_type": "code",
     "collapsed": false,
     "input": [
      "bt_addrs = get_btaddress(*pkts)\n",
      "bt_addrs"
     ],
     "language": "python",
     "metadata": {},
     "outputs": []
    },
    {
     "cell_type": "code",
     "collapsed": false,
     "input": [
      "import bluetooth\n",
      "for addr in bt_addrs:\n",
      "    print bluetooth.lookup_name(addr)"
     ],
     "language": "python",
     "metadata": {},
     "outputs": []
    }
   ],
   "metadata": {}
  }
 ]
}