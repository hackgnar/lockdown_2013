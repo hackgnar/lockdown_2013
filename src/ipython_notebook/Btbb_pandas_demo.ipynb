{
 "metadata": {
  "name": "Btbb_pandas_demo"
 },
 "nbformat": 3,
 "nbformat_minor": 0,
 "worksheets": [
  {
   "cells": [
    {
     "cell_type": "markdown",
     "metadata": {},
     "source": [
      "BTBB Pandas data analysis\n",
      "====================\n",
      "* this example utilizes the btbb scapy libraries along with  \n",
      "python pandas to demonstrate how btbb data can be organized  \n",
      "and visualized in python\n",
      "* I am still fairly new to pandas, so some of this could use some restructure\n",
      "\n",
      "library imports:\n",
      "---------------"
     ]
    },
    {
     "cell_type": "code",
     "collapsed": false,
     "input": [
      "from scapy.all import *\n",
      "from btbb import *\n",
      "from pandas import *\n",
      "import datetime"
     ],
     "language": "python",
     "metadata": {},
     "outputs": []
    },
    {
     "cell_type": "markdown",
     "metadata": {},
     "source": [
      "* open up our btbb pcap file and read in all of our packets\n",
      "* I am using my stream reader here, but the scapy pcap reader would work too\n",
      "* note: this could also be done on a live streaming pcap file"
     ]
    },
    {
     "cell_type": "code",
     "collapsed": false,
     "input": [
      "filename = \"../../data/pandas_demo.pcapbtbb\"\n",
      "btbb_stream = BtbbPcapStreamer(filename)"
     ],
     "language": "python",
     "metadata": {},
     "outputs": []
    },
    {
     "cell_type": "code",
     "collapsed": false,
     "input": [
      "pcap_pkts = btbb_stream.read_all()"
     ],
     "language": "python",
     "metadata": {},
     "outputs": []
    },
    {
     "cell_type": "markdown",
     "metadata": {},
     "source": [
      "* complicated looking but simple loop to create a list of dicts for easy dataframe creation"
     ]
    },
    {
     "cell_type": "code",
     "collapsed": false,
     "input": [
      "data_list = []\n",
      "for pcap in pcap_pkts:\n",
      "    tmp = {}\n",
      "    pkt = Ether(pcap[0])\n",
      "    timestamp = float(pcap[1][0])\n",
      "    addr_list = pkt.src.split(':')\n",
      "    tmp['time'] = datetime.datetime.fromtimestamp(timestamp)\n",
      "    tmp['nap'] = ':'.join(addr_list[:2])\n",
      "    tmp['uap'] = addr_list[2]\n",
      "    tmp['lap'] = ':'.join(addr_list[3:])\n",
      "    tmp['type'] = btbb_packet_type[pkt['packet'].type] if pkt.haslayer('BtbbPacket') else NaN\n",
      "    tmp['to_master'] =  (bin(pkt['meta'].CLK)[2:].zfill(32)[7] == '0') if pkt.haslayer('BtbbMeta') else NaN\n",
      "    tmp['payload'] = True if pkt.haslayer('BtbbPayload') else NaN\n",
      "    tmp['name'] = NaN\n",
      "    data_list.append(tmp)\n",
      "df = DataFrame(data_list, columns=['nap', 'uap', 'lap', 'type', 'payload', 'to_master', 'name', 'time'])"
     ],
     "language": "python",
     "metadata": {},
     "outputs": []
    },
    {
     "cell_type": "markdown",
     "metadata": {},
     "source": [
      "* for those unfamiliar with pandas, here is what a dataframe looks like\n",
      "* note: packet types marked NaN are empty id packets"
     ]
    },
    {
     "cell_type": "code",
     "collapsed": false,
     "input": [
      "df.head()"
     ],
     "language": "python",
     "metadata": {},
     "outputs": []
    },
    {
     "cell_type": "markdown",
     "metadata": {},
     "source": [
      "* lets check out our min and max timestamps in the data"
     ]
    },
    {
     "cell_type": "code",
     "collapsed": false,
     "input": [
      "print df['time'].max()\n",
      "print df['time'].min()"
     ],
     "language": "python",
     "metadata": {},
     "outputs": []
    },
    {
     "cell_type": "markdown",
     "metadata": {},
     "source": [
      "graph count of all clients seen\n",
      "------------------\n",
      "* toss out clients only seen once\n",
      "* include id packets"
     ]
    },
    {
     "cell_type": "code",
     "collapsed": false,
     "input": [
      "seen = df.groupby('lap')\n",
      "seen = seen.size()\n",
      "ax = seen[seen > 1].plot(kind='bar')"
     ],
     "language": "python",
     "metadata": {},
     "outputs": []
    },
    {
     "cell_type": "markdown",
     "metadata": {},
     "source": [
      "graph no id packets sent per client\n",
      "---------------------\n",
      "* this excludes id packets\n",
      "* note: more packets were likely sent, but this is all we see on one channel"
     ]
    },
    {
     "cell_type": "code",
     "collapsed": false,
     "input": [
      "pkt_count = df[df['type'].notnull()]\n",
      "pkt_count = pkt_count.groupby('lap')\n",
      "pkt_count = pkt_count.size()\n",
      "ax = pkt_count.plot(kind='bar')"
     ],
     "language": "python",
     "metadata": {},
     "outputs": []
    },
    {
     "cell_type": "markdown",
     "metadata": {},
     "source": [
      "graph breakdown of non id packets seen\n",
      "-------------------------\n",
      "* this excludes id packets\n",
      "* this is accross all clients seen"
     ]
    },
    {
     "cell_type": "code",
     "collapsed": false,
     "input": [
      "type_count = df[df['type'].notnull()]\n",
      "type_count = type_count.groupby('type')\n",
      "type_count = type_count.size()\n",
      "ax = type_count.plot(kind='barh')"
     ],
     "language": "python",
     "metadata": {},
     "outputs": []
    },
    {
     "cell_type": "markdown",
     "metadata": {},
     "source": [
      "graph non id packets seen per client\n",
      "---------------------\n",
      "* this excludes id packets"
     ]
    },
    {
     "cell_type": "code",
     "collapsed": false,
     "input": [
      "lap_type_count = df[df['type'].notnull()]\n",
      "lap_type_count = lap_type_count.groupby(['lap','type'])\n",
      "lap_type_count = lap_type_count.size()\n",
      "lap_type_count = lap_type_count.unstack(1)\n",
      "lap_type_count.plot(kind='bar', stacked=True)"
     ],
     "language": "python",
     "metadata": {},
     "outputs": []
    },
    {
     "cell_type": "markdown",
     "metadata": {},
     "source": [
      "All btbb packets seen over time:\n",
      "------------------------\n",
      "* includes id packets\n",
      "* taken at a one second frequency"
     ]
    },
    {
     "cell_type": "code",
     "collapsed": false,
     "input": [
      "ts_seen = df.groupby(['time'])\n",
      "ts_seen = ts_seen.size()\n",
      "ts_seen = ts_seen.asfreq('S')\n",
      "ax = ts_seen.plot(kind='line')\n",
      "ax.figure.set_figwidth(10)"
     ],
     "language": "python",
     "metadata": {},
     "outputs": []
    },
    {
     "cell_type": "markdown",
     "metadata": {},
     "source": [
      "packets seen over time per client:\n",
      "--------------------\n",
      "* sometimes this looks nicer with subplots"
     ]
    },
    {
     "cell_type": "code",
     "collapsed": false,
     "input": [
      "ts_seen = df[:300].groupby(['time', 'lap'])\n",
      "ts_seen = ts_seen.size()\n",
      "ts_seen = ts_seen.unstack(1)\n",
      "ts_seen = ts_seen.asfreq('S')\n",
      "ts_seen = ts_seen.fillna(value=0)\n",
      "ax = ts_seen.plot()\n",
      "ax.figure.set_figwidth(10)"
     ],
     "language": "python",
     "metadata": {},
     "outputs": []
    },
    {
     "cell_type": "markdown",
     "metadata": {},
     "source": [
      "total packet growth over time per client\n",
      "-------------------------\n",
      "* similar to the above but shows cumulative sum over time"
     ]
    },
    {
     "cell_type": "code",
     "collapsed": false,
     "input": [
      "ax = ts_seen.cumsum().plot(ylim=(0,20))\n",
      "ax.figure.set_figwidth(10)"
     ],
     "language": "python",
     "metadata": {},
     "outputs": []
    },
    {
     "cell_type": "markdown",
     "metadata": {},
     "source": [
      "Non id packets seen over time:\n",
      "--------------------\n",
      "* noisy chart\n",
      "* helpful to use wider graph size, smaller data sets, etc"
     ]
    },
    {
     "cell_type": "code",
     "collapsed": false,
     "input": [
      "ts_type = df[df['type'].notnull()]\n",
      "ts_type = ts_type.groupby(['time','type'])\n",
      "ts_type = ts_type.size()\n",
      "ts_type = ts_type.unstack(1)\n",
      "ts_type = ts_type.asfreq('S')\n",
      "ts_type = ts_type.fillna(value=0)\n",
      "ax=ts_type.plot()\n",
      "ax.figure.set_figwidth(10)"
     ],
     "language": "python",
     "metadata": {},
     "outputs": []
    },
    {
     "cell_type": "markdown",
     "metadata": {},
     "source": [
      "packet type growth over time:\n",
      "-----------------\n",
      "* excludes id packets\n",
      "* derived from the same data above but much easier to read"
     ]
    },
    {
     "cell_type": "code",
     "collapsed": false,
     "input": [
      "ax = ts_type.cumsum().plot()\n",
      "ax.figure.set_figwidth(10)"
     ],
     "language": "python",
     "metadata": {},
     "outputs": []
    },
    {
     "cell_type": "markdown",
     "metadata": {},
     "source": [
      "Individual client packets over time:\n",
      "=========================\n",
      "* list laps seen by clients who have sent non id packets"
     ]
    },
    {
     "cell_type": "code",
     "collapsed": false,
     "input": [
      "laps = df[df['type'].notnull()]\n",
      "laps = laps.groupby('lap')\n",
      "sample_lap = laps.indices.keys()[0]\n",
      "laps.indices.keys()"
     ],
     "language": "python",
     "metadata": {},
     "outputs": []
    },
    {
     "cell_type": "markdown",
     "metadata": {},
     "source": [
      "graph packet times seen over time\n",
      "-------------------------\n",
      "* similar to the cumulative graphs above\n",
      "* excludes id packets"
     ]
    },
    {
     "cell_type": "code",
     "collapsed": false,
     "input": [
      "sample_lap_packets = df[df['lap'] == sample_lap]\n",
      "ts_lap_type = sample_lap_packets[sample_lap_packets['type'].notnull()]\n",
      "ts_lap_type = ts_lap_type.groupby(['time','lap','type'])\n",
      "ts_lap_type = ts_lap_type.size()\n",
      "ts_lap_type = ts_lap_type.unstack(1)\n",
      "ts_lap_type = ts_lap_type.unstack(1)\n",
      "ts_lap_type = ts_lap_type.asfreq('S')\n",
      "ts_lap_type = ts_lap_type.fillna(value=0)\n",
      "ax = ts_lap_type.plot(subplots=True, figsize=(10,10), sharey=True)"
     ],
     "language": "python",
     "metadata": {},
     "outputs": []
    },
    {
     "cell_type": "code",
     "collapsed": false,
     "input": [
      "ax = ts_lap_type.cumsum().plot()"
     ],
     "language": "python",
     "metadata": {},
     "outputs": []
    }
   ],
   "metadata": {}
  }
 ]
}